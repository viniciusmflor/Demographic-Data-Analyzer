{
  "nbformat": 4,
  "nbformat_minor": 0,
  "metadata": {
    "colab": {
      "provenance": [],
      "collapsed_sections": [
        "QJw7Ajq5fM_H",
        "eZIpcLp9fTdM",
        "AgqyHsfpfa1G",
        "WCStZv8vfsYC",
        "RaA9xkWhzZxd",
        "NhI7Ctq4zSiI"
      ],
      "include_colab_link": true
    },
    "kernelspec": {
      "name": "python3",
      "display_name": "Python 3"
    },
    "language_info": {
      "name": "python"
    }
  },
  "cells": [
    {
      "cell_type": "markdown",
      "metadata": {
        "id": "view-in-github",
        "colab_type": "text"
      },
      "source": [
        "<a href=\"https://colab.research.google.com/github/viniciusmflor/Demographic-Data-Analyzer/blob/main/ITL_ES05_2025_e03_Gitflow.ipynb\" target=\"_parent\"><img src=\"https://colab.research.google.com/assets/colab-badge.svg\" alt=\"Open In Colab\"/></a>"
      ]
    },
    {
      "cell_type": "markdown",
      "source": [
        "# 🛠️ **Atividade: Desenvolvimento Colaborativo com Gitflow**  "
      ],
      "metadata": {
        "id": "kc2gWdzue3rR"
      }
    },
    {
      "cell_type": "markdown",
      "source": [
        "## 📌 1. Objetivo"
      ],
      "metadata": {
        "id": "T9-4QsFze_OF"
      }
    },
    {
      "cell_type": "markdown",
      "source": [
        "Este projeto tem como objetivo oferecer algumas atividades práticas sobre **Gitflow, Versionamento Semântico e boas práticas de Git** de forma prática.\n"
      ],
      "metadata": {
        "id": "ng0saxW5fCOk"
      }
    },
    {
      "cell_type": "markdown",
      "source": [
        "## 📂 2. Código Inicial"
      ],
      "metadata": {
        "id": "bAMdhu0ZfIhL"
      }
    },
    {
      "cell_type": "markdown",
      "source": [
        "Os arquivos abaixo já estão prontos e serão usados como base. A tarefa consiste em **evoluir essa estrutura**, aplicando Gitflow corretamente.\n"
      ],
      "metadata": {
        "id": "LX0_W_PHfLkP"
      }
    },
    {
      "cell_type": "markdown",
      "source": [
        "### 📄 `index.html`"
      ],
      "metadata": {
        "id": "QJw7Ajq5fM_H"
      }
    },
    {
      "cell_type": "markdown",
      "source": [
        "```html\n",
        "<!DOCTYPE html>\n",
        "<html lang=\"pt-br\">\n",
        "<head>\n",
        "    <meta charset=\"UTF-8\">\n",
        "    <meta name=\"viewport\" content=\"width=device-width, initial-scale=1.0\">\n",
        "    <title>Página Colaborativa</title>\n",
        "    <link rel=\"stylesheet\" href=\"style.css\">\n",
        "    <script defer src=\"script.js\"></script>\n",
        "</head>\n",
        "<body>\n",
        "    <h1>Bem-vindo à Página Colaborativa!</h1>\n",
        "    <p>Este projeto será desenvolvido em equipe seguindo boas práticas de versionamento.</p>\n",
        "</body>\n",
        "</html>\n",
        "```"
      ],
      "metadata": {
        "id": "7zRUUhTLfQ2y"
      }
    },
    {
      "cell_type": "markdown",
      "source": [
        "### 📄 `style.css`"
      ],
      "metadata": {
        "id": "eZIpcLp9fTdM"
      }
    },
    {
      "cell_type": "markdown",
      "source": [
        "```css\n",
        "body {\n",
        "    font-family: Arial, sans-serif;\n",
        "    text-align: center;\n",
        "    margin: 50px;\n",
        "}\n",
        "```"
      ],
      "metadata": {
        "id": "a0qii9tSfWCD"
      }
    },
    {
      "cell_type": "markdown",
      "source": [
        "### 📄 `script.js`"
      ],
      "metadata": {
        "id": "AgqyHsfpfa1G"
      }
    },
    {
      "cell_type": "markdown",
      "source": [
        "```js\n",
        "console.log(\"Projeto iniciado.\");\n",
        "```"
      ],
      "metadata": {
        "id": "SHZ7_bODfd_t"
      }
    },
    {
      "cell_type": "markdown",
      "source": [
        "## 3. Fases da Atividade"
      ],
      "metadata": {
        "id": "VjQF7R36fhCT"
      }
    },
    {
      "cell_type": "markdown",
      "source": [
        "### 3.1 [Fase 1] Configuração Inicial"
      ],
      "metadata": {
        "id": "z0UaG5zVfj5D"
      }
    },
    {
      "cell_type": "markdown",
      "source": [
        "Vamos iniciar um projeto antes de começarmos o desenvolvimento."
      ],
      "metadata": {
        "id": "Ta2rtrHwfpcA"
      }
    },
    {
      "cell_type": "markdown",
      "source": [
        "#### **3.1.1 Tarefa: Configuração do repositório para o desenvolvimento**"
      ],
      "metadata": {
        "id": "WCStZv8vfsYC"
      }
    },
    {
      "cell_type": "markdown",
      "source": [
        "✅ Crie um **repositório no GitHub** chamado `ITL-ES05-2025-e03`."
      ],
      "metadata": {
        "id": "SU614KURfvcb"
      }
    },
    {
      "cell_type": "markdown",
      "source": [
        "✅ Crie um repositório em sua máquina local e vincule-o ao repositório no GitHub"
      ],
      "metadata": {
        "id": "-QTJLG16fvs4"
      }
    },
    {
      "cell_type": "markdown",
      "source": [
        "*Escreva os comandos aqui*"
      ],
      "metadata": {
        "id": "M--jtZQ0fvxB"
      }
    },
    {
      "cell_type": "markdown",
      "source": [
        "*Clique aqui para ver a resposta*\n",
        "\n",
        "<!--\n",
        "git init\n",
        "\n",
        "git remote add origin git@github.com:<seu-usuário>@ITL-ES05-2025-e03.git\n",
        "\n",
        "git branch -M main\n",
        "-->"
      ],
      "metadata": {
        "id": "e5BNRqI4-3od"
      }
    },
    {
      "cell_type": "markdown",
      "source": [
        "✅ Crie um `README.md`inicial"
      ],
      "metadata": {
        "id": "VEkbwFWw5BAN"
      }
    },
    {
      "cell_type": "markdown",
      "source": [
        "*Escreva os comandos aqui*"
      ],
      "metadata": {
        "id": "sLcBl41K5Glx"
      }
    },
    {
      "cell_type": "markdown",
      "source": [
        "*Clique aqui para ver a resposta*\n",
        "\n",
        "<!--\n",
        "echo \"# Atividade\" > README.md\n",
        "-->"
      ],
      "metadata": {
        "id": "4k3jgSau5I2j"
      }
    },
    {
      "cell_type": "markdown",
      "source": [
        "✅ Crie a branch **`develop`**"
      ],
      "metadata": {
        "id": "CPbZqZWWgF8k"
      }
    },
    {
      "cell_type": "markdown",
      "source": [
        "*Escreva os comandos aqui*"
      ],
      "metadata": {
        "id": "L8cuN21ggGGB"
      }
    },
    {
      "cell_type": "markdown",
      "source": [
        "*Clique aqui para ver a resposta*\n",
        "<!--\n",
        "git checkout -b develop\n",
        "-->"
      ],
      "metadata": {
        "id": "Lh7OX4F5gGNw"
      }
    },
    {
      "cell_type": "markdown",
      "source": [
        "✅ Faça o **primeiro commit** seguindo boas práticas:"
      ],
      "metadata": {
        "id": "mTsNXTF_gqhj"
      }
    },
    {
      "cell_type": "markdown",
      "source": [
        "*Sua resposta*"
      ],
      "metadata": {
        "id": "V4D_2peHuptS"
      }
    },
    {
      "cell_type": "markdown",
      "source": [
        "*Clique aqui para ver a resposta*\n",
        "\n",
        "<!--\n",
        "   git add .\n",
        "   git commit -m \"chore: configurar estrutura inicial do projeto\"\n",
        "-->"
      ],
      "metadata": {
        "id": "_0M31ZAxurzp"
      }
    },
    {
      "cell_type": "markdown",
      "source": [
        "✅ Publique as branches no GitHub."
      ],
      "metadata": {
        "id": "cTj1Dj_zur2d"
      }
    },
    {
      "cell_type": "markdown",
      "source": [
        "*Sua resposta*"
      ],
      "metadata": {
        "id": "GbueSEH1usCt"
      }
    },
    {
      "cell_type": "markdown",
      "source": [
        "*Clique aqui para ver a resposta*\n",
        "\n",
        "<!--\n",
        "git push -u origin main\n",
        "git push -u origin develop\n",
        "-->"
      ],
      "metadata": {
        "id": "IIQGNPH9vKaR"
      }
    },
    {
      "cell_type": "markdown",
      "source": [
        "#### **3.1.2 [Avançado 🔥] Configurar um Hook de Commit**"
      ],
      "metadata": {
        "id": "qXUbc_c5vplC"
      }
    },
    {
      "cell_type": "markdown",
      "source": [
        "✅ Configure um hook de commit que bloqueia commits fora do padrão de mensagens semântica."
      ],
      "metadata": {
        "id": "A4ayDQtWvpnY"
      }
    },
    {
      "cell_type": "markdown",
      "source": [
        "*Sua resposta*"
      ],
      "metadata": {
        "id": "4ZzMkUJkvppd"
      }
    },
    {
      "cell_type": "markdown",
      "source": [
        "*Clique aqui para ver a resposta*\n",
        "\n",
        "<!--\n",
        "Not so fast! Try harder!\n",
        "-->"
      ],
      "metadata": {
        "id": "y8sJumZwvzrx"
      }
    },
    {
      "cell_type": "markdown",
      "source": [
        "#### **3.1.3 💡 Perguntas para reflexão**\n"
      ],
      "metadata": {
        "id": "waGCHk_7vzui"
      }
    },
    {
      "cell_type": "markdown",
      "source": [
        "📌 Qual a função da branch `develop` no Gitflow?"
      ],
      "metadata": {
        "id": "XKrtzt1KxG8p"
      }
    },
    {
      "cell_type": "markdown",
      "source": [
        "*Sua resposta*"
      ],
      "metadata": {
        "id": "CXZR7tmKxY1O"
      }
    },
    {
      "cell_type": "markdown",
      "source": [
        "📌 Como garantir que todos na equipe sigam as mesmas convenções de commits?"
      ],
      "metadata": {
        "id": "6rMt7ftww8Qi"
      }
    },
    {
      "cell_type": "markdown",
      "source": [
        "*Sua resposta*"
      ],
      "metadata": {
        "id": "aP55P17bxald"
      }
    },
    {
      "cell_type": "markdown",
      "source": [
        "---"
      ],
      "metadata": {
        "id": "3DkxwlUOyGMJ"
      }
    },
    {
      "cell_type": "markdown",
      "source": [
        "### 3.2 [Fase 2] Desenvolvimento com Feature Branches"
      ],
      "metadata": {
        "id": "4ONONbJSyHp3"
      }
    },
    {
      "cell_type": "markdown",
      "source": [
        "O site precisa de melhorias, mas todas as mudanças devem ser implementadas seguindo Gitflow."
      ],
      "metadata": {
        "id": "jhJIwiMQyHsj"
      }
    },
    {
      "cell_type": "markdown",
      "source": [
        "#### **3.2.1 Tarefa: Criar um Cabeçalho**"
      ],
      "metadata": {
        "id": "RaA9xkWhzZxd"
      }
    },
    {
      "cell_type": "markdown",
      "source": [
        "✅ Criar uma **Issue** chamada `\"Adicionar um cabeçalho estilizado\"`."
      ],
      "metadata": {
        "id": "yUZKbXTZyHvZ"
      }
    },
    {
      "cell_type": "markdown",
      "source": [
        "✅ Criar uma **branch `feat-1/cabecalho`** a partir de `develop`."
      ],
      "metadata": {
        "id": "f3qmadc7yHxx"
      }
    },
    {
      "cell_type": "markdown",
      "source": [],
      "metadata": {
        "id": "5_BS7wtqBtJR"
      }
    },
    {
      "cell_type": "markdown",
      "source": [
        "*Clique aqui para ver a resposta*\n",
        "\n",
        "<!--\n",
        "git checkout develop\n",
        "git pull origin develop\n",
        "git checkout -b feat-1/cabecalho\n",
        "-->"
      ],
      "metadata": {
        "id": "nGRsXYQjBtRj"
      }
    },
    {
      "cell_type": "markdown",
      "source": [
        "✅ Adicione um `<header>` ao `index.html` com um fundo colorido."
      ],
      "metadata": {
        "id": "l4HMpr_UyH0F"
      }
    },
    {
      "cell_type": "markdown",
      "source": [
        "*Sua resposta*"
      ],
      "metadata": {
        "id": "QD5xn9VGBuo0"
      }
    },
    {
      "cell_type": "markdown",
      "source": [
        "*Clique aqui para ver a resposta*\n",
        "\n",
        "<!--\n",
        "-->"
      ],
      "metadata": {
        "id": "vvWkPX86BuxJ"
      }
    },
    {
      "cell_type": "markdown",
      "source": [
        "✅ Estilize o cabeçalho no `style.css`."
      ],
      "metadata": {
        "id": "JAI29EJSyH2X"
      }
    },
    {
      "cell_type": "markdown",
      "source": [
        "*Sua resposta*"
      ],
      "metadata": {
        "id": "LHO2DnfeBwEG"
      }
    },
    {
      "cell_type": "markdown",
      "source": [
        "*Clique aqui para ver a resposta*\n",
        "\n",
        "<!--\n",
        "-->"
      ],
      "metadata": {
        "id": "Temea1bABwND"
      }
    },
    {
      "cell_type": "markdown",
      "source": [
        "✅ Criar um commit semântico:"
      ],
      "metadata": {
        "id": "4--UWl8Vy-uw"
      }
    },
    {
      "cell_type": "markdown",
      "source": [
        "*Sua resposta*"
      ],
      "metadata": {
        "id": "Dsa19a__Bx5i"
      }
    },
    {
      "cell_type": "markdown",
      "source": [
        "*Clique aqui para ver a resposta*\n",
        "\n",
        "<!--\n",
        "-->"
      ],
      "metadata": {
        "id": "xFusDC4vByGP"
      }
    },
    {
      "cell_type": "markdown",
      "source": [
        "✅ Criar um **Pull Request** para `develop` e solicitar revisão."
      ],
      "metadata": {
        "id": "YWWNcwr9y-xC"
      }
    },
    {
      "cell_type": "markdown",
      "source": [
        "#### **3.2.2 [Avançado 🔥] Criar uma Feature Flag**"
      ],
      "metadata": {
        "id": "vxQfabDAy-ze"
      }
    },
    {
      "cell_type": "markdown",
      "source": [
        "✅ Implemente uma **Feature Flag** para que o cabeçalho só apareça se ativado por uma variável no `script.js`."
      ],
      "metadata": {
        "id": "41QMkZNizSf2"
      }
    },
    {
      "cell_type": "markdown",
      "source": [
        "*Clique aqui para ver a resposta*\n",
        "\n",
        "<!--\n",
        "Não tem para essa.\n",
        "-->"
      ],
      "metadata": {
        "id": "ODaCzTwnB7Wc"
      }
    },
    {
      "cell_type": "markdown",
      "source": [
        "#### **3.2.3 💡 Perguntas para reflexão**"
      ],
      "metadata": {
        "id": "NhI7Ctq4zSiI"
      }
    },
    {
      "cell_type": "markdown",
      "source": [
        "📌 Como garantir que os commits contenham informações úteis para o histórico do projeto?"
      ],
      "metadata": {
        "id": "j6PWXTeqzSkm"
      }
    },
    {
      "cell_type": "markdown",
      "source": [
        "📌 Como Feature Flags ajudam a controlar lançamentos?"
      ],
      "metadata": {
        "id": "FiD8wUHnzSm6"
      }
    },
    {
      "cell_type": "markdown",
      "source": [
        "### 3.3 [Fase 3] Uso de Stash, Rebase e Merge"
      ],
      "metadata": {
        "id": "3sULSgLky-1m"
      }
    },
    {
      "cell_type": "markdown",
      "source": [
        "Você precisa lidar com múltiplas tarefas ao mesmo tempo e garantir um histórico limpo."
      ],
      "metadata": {
        "id": "bcf3kYEn0tA2"
      }
    },
    {
      "cell_type": "markdown",
      "source": [
        "#### **3.3.1 Tarefa: Trabalhar com Stash**"
      ],
      "metadata": {
        "id": "rQouIYHI0tDP"
      }
    },
    {
      "cell_type": "markdown",
      "source": [
        "✅ Criar uma **branch `feature/rodape`** para adicionar um rodapé à página."
      ],
      "metadata": {
        "id": "X3W76NCp0tFq"
      }
    },
    {
      "cell_type": "markdown",
      "source": [
        "*Sua resposta*"
      ],
      "metadata": {
        "id": "fIZmVLMJl7Ga"
      }
    },
    {
      "cell_type": "markdown",
      "source": [
        "✅ Guardar alterações sem commit usando `git stash`."
      ],
      "metadata": {
        "id": "dGyxYF7a0tH9"
      }
    },
    {
      "cell_type": "markdown",
      "source": [
        "*Sua resposta*"
      ],
      "metadata": {
        "id": "7MpgUFTAl87H"
      }
    },
    {
      "cell_type": "markdown",
      "source": [
        "✅ Atualizar `develop`, recuperar as alterações e criar commit (`feat: adicionar rodapé`)."
      ],
      "metadata": {
        "id": "MAdPk1cs0tKV"
      }
    },
    {
      "cell_type": "markdown",
      "source": [
        "*Sua resposta*"
      ],
      "metadata": {
        "id": "AIrx_nXsl-kS"
      }
    },
    {
      "cell_type": "markdown",
      "source": [
        "#### **3.3.2 [Avançado 🔥] Fazer um Rebase Interativo**"
      ],
      "metadata": {
        "id": "p7Z5zM-A0tMl"
      }
    },
    {
      "cell_type": "markdown",
      "source": [
        "✅ Combine múltiplos commits pequenos em um único commit limpo usando `git rebase -i`."
      ],
      "metadata": {
        "id": "sIBpN5hm1bS1"
      }
    },
    {
      "cell_type": "markdown",
      "source": [
        "*Sua resposta*"
      ],
      "metadata": {
        "id": "cSYe6CWRmAu6"
      }
    },
    {
      "cell_type": "markdown",
      "source": [
        "*Clique aqui para ver a resposta*\n",
        "\n",
        "<!--\n",
        "-->"
      ],
      "metadata": {
        "id": "3juQu9itmCDE"
      }
    },
    {
      "cell_type": "markdown",
      "source": [
        "#### **3.3.3 Perguntas para reflexão**"
      ],
      "metadata": {
        "id": "xkYkiGZQ1bVK"
      }
    },
    {
      "cell_type": "markdown",
      "source": [
        "📌 Quando usar `git stash` em projetos colaborativos?"
      ],
      "metadata": {
        "id": "7VOUfHxb2LMm"
      }
    },
    {
      "cell_type": "markdown",
      "source": [
        "📌 Como `git rebase` ajuda a manter um histórico mais limpo?"
      ],
      "metadata": {
        "id": "IIcrXH1H2NbT"
      }
    },
    {
      "cell_type": "markdown",
      "source": [
        "---"
      ],
      "metadata": {
        "id": "JeXE32XE2fWR"
      }
    },
    {
      "cell_type": "markdown",
      "source": [
        "### **3.4 [Fase 4] Correção de Bugs e Hotfixes**"
      ],
      "metadata": {
        "id": "9jJaxJ3r2fYq"
      }
    },
    {
      "cell_type": "markdown",
      "source": [
        "Um bug crítico precisa ser corrigido rapidamente."
      ],
      "metadata": {
        "id": "BVtX-S5q2iTy"
      }
    },
    {
      "cell_type": "markdown",
      "source": [
        "#### **3.4.1 Tarefa: Criar uma Hotfix Branch**"
      ],
      "metadata": {
        "id": "-vGKGZRl2iWH"
      }
    },
    {
      "cell_type": "markdown",
      "source": [
        "✅ Criar uma **Issue** chamada `\"Corrigir erro no botão\"`.  "
      ],
      "metadata": {
        "id": "pbHI2Etn2iYy"
      }
    },
    {
      "cell_type": "markdown",
      "source": [
        "✅ Criar uma **branch `hotfix/botao-fix`** a partir de `main`.  "
      ],
      "metadata": {
        "id": "1CaYLhTW2ib2"
      }
    },
    {
      "cell_type": "markdown",
      "source": [
        "✅ Corrigir o erro no `script.js`.  "
      ],
      "metadata": {
        "id": "_TQcMW9g2fbS"
      }
    },
    {
      "cell_type": "markdown",
      "source": [
        "✅ Criar um commit semântico (`fix: corrigir evento de clique`)."
      ],
      "metadata": {
        "id": "7h0VBeje2fdx"
      }
    },
    {
      "cell_type": "markdown",
      "source": [
        "✅ Criar Pull Request para `main` e `develop`."
      ],
      "metadata": {
        "id": "u8HN1Df83dJq"
      }
    },
    {
      "cell_type": "markdown",
      "source": [
        "#### **3.4.2 [Avançado 🔥]: Reverter um Commit Errado**"
      ],
      "metadata": {
        "id": "IZIW99Vd3dMj"
      }
    },
    {
      "cell_type": "markdown",
      "source": [
        "✅ Usar `git revert` para desfazer uma alteração sem remover histórico."
      ],
      "metadata": {
        "id": "23u_R49v3dPQ"
      }
    },
    {
      "cell_type": "markdown",
      "source": [
        "#### **3.4.3 💡 Perguntas para reflexão**  "
      ],
      "metadata": {
        "id": "eWkL8Ror57sk"
      }
    },
    {
      "cell_type": "markdown",
      "source": [
        "📌 Qual a diferença entre `git revert` e `git reset`?"
      ],
      "metadata": {
        "id": "_ZwAM2oC57va"
      }
    },
    {
      "cell_type": "markdown",
      "source": [
        "📌 Como evitar que código problemático entre na `main`?"
      ],
      "metadata": {
        "id": "4lLooWgz57yJ"
      }
    },
    {
      "cell_type": "markdown",
      "source": [
        "### **3.5 [Fase 5] Versionamento Semântico e Lançamento**"
      ],
      "metadata": {
        "id": "moB9NLOv570f"
      }
    },
    {
      "cell_type": "markdown",
      "source": [
        "O projeto está pronto para lançamento oficial.  "
      ],
      "metadata": {
        "id": "FfUYC0Uo6upf"
      }
    },
    {
      "cell_type": "markdown",
      "source": [
        "#### **3.5.1 Tarefa: Criar um Release e Definir a Versão**"
      ],
      "metadata": {
        "id": "i_2veK1H6usW"
      }
    },
    {
      "cell_type": "markdown",
      "source": [
        "✅ Criar uma **branch `release/1.0.0`** a partir de `develop`.  "
      ],
      "metadata": {
        "id": "ppQ4qwX_6uvD"
      }
    },
    {
      "cell_type": "markdown",
      "source": [
        "✅ Atualizar `README.md` documentando a versão."
      ],
      "metadata": {
        "id": "tSGNhfjU573N"
      }
    },
    {
      "cell_type": "markdown",
      "source": [
        "✅ Criar **Release Tag `v1.0.0`** (`git tag -a v1.0.0 -m \"Release 1.0.0\"`)."
      ],
      "metadata": {
        "id": "UH7VwvOY6Gzj"
      }
    },
    {
      "cell_type": "markdown",
      "source": [
        "#### **3.5.2 [Avançado 🔥]: Automatizar a Criação de Releases**"
      ],
      "metadata": {
        "id": "ogPDirze6G2E"
      }
    },
    {
      "cell_type": "markdown",
      "source": [
        "✅ Criar um **GitHub Action** para publicar releases automaticamente."
      ],
      "metadata": {
        "id": "4An5Exup6846"
      }
    },
    {
      "cell_type": "markdown",
      "source": [
        "#### **3.5.3 💡 Perguntas para reflexão**"
      ],
      "metadata": {
        "id": "OCwgPxRg687a"
      }
    },
    {
      "cell_type": "markdown",
      "source": [
        "📌 Como decidir se a versão deve ser `1.0.0`, `1.0.1` ou `2.0.0`?  "
      ],
      "metadata": {
        "id": "zoBFnKKA689n"
      }
    },
    {
      "cell_type": "markdown",
      "source": [
        "📌 Como a automação pode reduzir erros no versionamento?"
      ],
      "metadata": {
        "id": "WbaEP9FM7Cli"
      }
    }
  ]
}